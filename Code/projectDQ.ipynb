{
  "nbformat": 4,
  "nbformat_minor": 0,
  "metadata": {
    "colab": {
      "provenance": []
    },
    "kernelspec": {
      "name": "python3",
      "display_name": "Python 3"
    },
    "language_info": {
      "name": "python"
    }
  },
  "cells": [
    {
      "cell_type": "code",
      "source": [
        "%cd '/content/drive/MyDrive/Colab Notebooks/Data And Information Quality/Project/'"
      ],
      "metadata": {
        "colab": {
          "base_uri": "https://localhost:8080/"
        },
        "id": "UVdYSVo52W6V",
        "outputId": "de2e4c76-e6f9-4633-9817-44039ed934e5"
      },
      "execution_count": null,
      "outputs": [
        {
          "output_type": "stream",
          "name": "stdout",
          "text": [
            "/content/drive/MyDrive/Colab Notebooks/Data And Information Quality/Project\n"
          ]
        }
      ]
    },
    {
      "cell_type": "markdown",
      "metadata": {
        "id": "l3FoTyRa9pLu"
      },
      "source": [
        "### Import libraries"
      ]
    },
    {
      "cell_type": "code",
      "source": [
        "import dirty_completeness as dc\n",
        "import numpy as np\n",
        "import os\n",
        "import random\n",
        "import pandas as pd\n",
        "import seaborn as sns\n",
        "import matplotlib as mpl\n",
        "import matplotlib.pyplot as plt\n",
        "from sklearn.model_selection import train_test_split\n",
        "from sklearn.metrics import accuracy_score, f1_score, precision_score, recall_score\n",
        "from sklearn.metrics import confusion_matrix"
      ],
      "metadata": {
        "id": "3EDahvQhfFFo"
      },
      "execution_count": null,
      "outputs": []
    },
    {
      "cell_type": "markdown",
      "metadata": {
        "id": "pLb-N5JzUUQS"
      },
      "source": [
        "### Set seed for reproducibility"
      ]
    },
    {
      "cell_type": "code",
      "source": [
        "# Random seed for reproducibility\n",
        "seed = 42\n",
        "\n",
        "random.seed(seed)\n",
        "os.environ['PYTHONHASHSEED'] = str(seed)\n",
        "np.random.seed(seed)"
      ],
      "metadata": {
        "id": "m8dFqvB8fbsp"
      },
      "execution_count": null,
      "outputs": []
    },
    {
      "cell_type": "markdown",
      "source": [
        "### Dataset Inspection"
      ],
      "metadata": {
        "id": "LvW-wKOMgK4I"
      }
    },
    {
      "cell_type": "code",
      "source": [
        "ecoli_df = pd.read_csv('ecoli.csv')\n",
        "ecoli_df.head()"
      ],
      "metadata": {
        "colab": {
          "base_uri": "https://localhost:8080/",
          "height": 206
        },
        "id": "gYuhRK4_gKVf",
        "outputId": "5c03ab62-2016-4bf5-ffbc-fd816b0b6762"
      },
      "execution_count": null,
      "outputs": [
        {
          "output_type": "execute_result",
          "data": {
            "text/plain": [
              "            1     2     3     4    5     6     7     8 class\n",
              "0   AAT_ECOLI  0.49  0.29  0.48  0.5  0.56  0.24  0.35    cp\n",
              "1  ACEA_ECOLI  0.07  0.40  0.48  0.5  0.54  0.35  0.44    cp\n",
              "2  ACEK_ECOLI  0.56  0.40  0.48  0.5  0.49  0.37  0.46    cp\n",
              "3  ACKA_ECOLI  0.59  0.49  0.48  0.5  0.52  0.45  0.36    cp\n",
              "4   ADI_ECOLI  0.23  0.32  0.48  0.5  0.55  0.25  0.35    cp"
            ],
            "text/html": [
              "\n",
              "  <div id=\"df-26fdd5fc-fb90-4992-b340-cfc4bc5d055b\">\n",
              "    <div class=\"colab-df-container\">\n",
              "      <div>\n",
              "<style scoped>\n",
              "    .dataframe tbody tr th:only-of-type {\n",
              "        vertical-align: middle;\n",
              "    }\n",
              "\n",
              "    .dataframe tbody tr th {\n",
              "        vertical-align: top;\n",
              "    }\n",
              "\n",
              "    .dataframe thead th {\n",
              "        text-align: right;\n",
              "    }\n",
              "</style>\n",
              "<table border=\"1\" class=\"dataframe\">\n",
              "  <thead>\n",
              "    <tr style=\"text-align: right;\">\n",
              "      <th></th>\n",
              "      <th>1</th>\n",
              "      <th>2</th>\n",
              "      <th>3</th>\n",
              "      <th>4</th>\n",
              "      <th>5</th>\n",
              "      <th>6</th>\n",
              "      <th>7</th>\n",
              "      <th>8</th>\n",
              "      <th>class</th>\n",
              "    </tr>\n",
              "  </thead>\n",
              "  <tbody>\n",
              "    <tr>\n",
              "      <th>0</th>\n",
              "      <td>AAT_ECOLI</td>\n",
              "      <td>0.49</td>\n",
              "      <td>0.29</td>\n",
              "      <td>0.48</td>\n",
              "      <td>0.5</td>\n",
              "      <td>0.56</td>\n",
              "      <td>0.24</td>\n",
              "      <td>0.35</td>\n",
              "      <td>cp</td>\n",
              "    </tr>\n",
              "    <tr>\n",
              "      <th>1</th>\n",
              "      <td>ACEA_ECOLI</td>\n",
              "      <td>0.07</td>\n",
              "      <td>0.40</td>\n",
              "      <td>0.48</td>\n",
              "      <td>0.5</td>\n",
              "      <td>0.54</td>\n",
              "      <td>0.35</td>\n",
              "      <td>0.44</td>\n",
              "      <td>cp</td>\n",
              "    </tr>\n",
              "    <tr>\n",
              "      <th>2</th>\n",
              "      <td>ACEK_ECOLI</td>\n",
              "      <td>0.56</td>\n",
              "      <td>0.40</td>\n",
              "      <td>0.48</td>\n",
              "      <td>0.5</td>\n",
              "      <td>0.49</td>\n",
              "      <td>0.37</td>\n",
              "      <td>0.46</td>\n",
              "      <td>cp</td>\n",
              "    </tr>\n",
              "    <tr>\n",
              "      <th>3</th>\n",
              "      <td>ACKA_ECOLI</td>\n",
              "      <td>0.59</td>\n",
              "      <td>0.49</td>\n",
              "      <td>0.48</td>\n",
              "      <td>0.5</td>\n",
              "      <td>0.52</td>\n",
              "      <td>0.45</td>\n",
              "      <td>0.36</td>\n",
              "      <td>cp</td>\n",
              "    </tr>\n",
              "    <tr>\n",
              "      <th>4</th>\n",
              "      <td>ADI_ECOLI</td>\n",
              "      <td>0.23</td>\n",
              "      <td>0.32</td>\n",
              "      <td>0.48</td>\n",
              "      <td>0.5</td>\n",
              "      <td>0.55</td>\n",
              "      <td>0.25</td>\n",
              "      <td>0.35</td>\n",
              "      <td>cp</td>\n",
              "    </tr>\n",
              "  </tbody>\n",
              "</table>\n",
              "</div>\n",
              "      <button class=\"colab-df-convert\" onclick=\"convertToInteractive('df-26fdd5fc-fb90-4992-b340-cfc4bc5d055b')\"\n",
              "              title=\"Convert this dataframe to an interactive table.\"\n",
              "              style=\"display:none;\">\n",
              "        \n",
              "  <svg xmlns=\"http://www.w3.org/2000/svg\" height=\"24px\"viewBox=\"0 0 24 24\"\n",
              "       width=\"24px\">\n",
              "    <path d=\"M0 0h24v24H0V0z\" fill=\"none\"/>\n",
              "    <path d=\"M18.56 5.44l.94 2.06.94-2.06 2.06-.94-2.06-.94-.94-2.06-.94 2.06-2.06.94zm-11 1L8.5 8.5l.94-2.06 2.06-.94-2.06-.94L8.5 2.5l-.94 2.06-2.06.94zm10 10l.94 2.06.94-2.06 2.06-.94-2.06-.94-.94-2.06-.94 2.06-2.06.94z\"/><path d=\"M17.41 7.96l-1.37-1.37c-.4-.4-.92-.59-1.43-.59-.52 0-1.04.2-1.43.59L10.3 9.45l-7.72 7.72c-.78.78-.78 2.05 0 2.83L4 21.41c.39.39.9.59 1.41.59.51 0 1.02-.2 1.41-.59l7.78-7.78 2.81-2.81c.8-.78.8-2.07 0-2.86zM5.41 20L4 18.59l7.72-7.72 1.47 1.35L5.41 20z\"/>\n",
              "  </svg>\n",
              "      </button>\n",
              "      \n",
              "  <style>\n",
              "    .colab-df-container {\n",
              "      display:flex;\n",
              "      flex-wrap:wrap;\n",
              "      gap: 12px;\n",
              "    }\n",
              "\n",
              "    .colab-df-convert {\n",
              "      background-color: #E8F0FE;\n",
              "      border: none;\n",
              "      border-radius: 50%;\n",
              "      cursor: pointer;\n",
              "      display: none;\n",
              "      fill: #1967D2;\n",
              "      height: 32px;\n",
              "      padding: 0 0 0 0;\n",
              "      width: 32px;\n",
              "    }\n",
              "\n",
              "    .colab-df-convert:hover {\n",
              "      background-color: #E2EBFA;\n",
              "      box-shadow: 0px 1px 2px rgba(60, 64, 67, 0.3), 0px 1px 3px 1px rgba(60, 64, 67, 0.15);\n",
              "      fill: #174EA6;\n",
              "    }\n",
              "\n",
              "    [theme=dark] .colab-df-convert {\n",
              "      background-color: #3B4455;\n",
              "      fill: #D2E3FC;\n",
              "    }\n",
              "\n",
              "    [theme=dark] .colab-df-convert:hover {\n",
              "      background-color: #434B5C;\n",
              "      box-shadow: 0px 1px 3px 1px rgba(0, 0, 0, 0.15);\n",
              "      filter: drop-shadow(0px 1px 2px rgba(0, 0, 0, 0.3));\n",
              "      fill: #FFFFFF;\n",
              "    }\n",
              "  </style>\n",
              "\n",
              "      <script>\n",
              "        const buttonEl =\n",
              "          document.querySelector('#df-26fdd5fc-fb90-4992-b340-cfc4bc5d055b button.colab-df-convert');\n",
              "        buttonEl.style.display =\n",
              "          google.colab.kernel.accessAllowed ? 'block' : 'none';\n",
              "\n",
              "        async function convertToInteractive(key) {\n",
              "          const element = document.querySelector('#df-26fdd5fc-fb90-4992-b340-cfc4bc5d055b');\n",
              "          const dataTable =\n",
              "            await google.colab.kernel.invokeFunction('convertToInteractive',\n",
              "                                                     [key], {});\n",
              "          if (!dataTable) return;\n",
              "\n",
              "          const docLinkHtml = 'Like what you see? Visit the ' +\n",
              "            '<a target=\"_blank\" href=https://colab.research.google.com/notebooks/data_table.ipynb>data table notebook</a>'\n",
              "            + ' to learn more about interactive tables.';\n",
              "          element.innerHTML = '';\n",
              "          dataTable['output_type'] = 'display_data';\n",
              "          await google.colab.output.renderOutput(dataTable, element);\n",
              "          const docLink = document.createElement('div');\n",
              "          docLink.innerHTML = docLinkHtml;\n",
              "          element.appendChild(docLink);\n",
              "        }\n",
              "      </script>\n",
              "    </div>\n",
              "  </div>\n",
              "  "
            ]
          },
          "metadata": {},
          "execution_count": 4
        }
      ]
    },
    {
      "cell_type": "code",
      "source": [
        "ecoli_df.info()"
      ],
      "metadata": {
        "colab": {
          "base_uri": "https://localhost:8080/"
        },
        "id": "CAQcp_A_gdQF",
        "outputId": "05930c2e-1e52-4187-cc5a-01bf63e52bf6"
      },
      "execution_count": null,
      "outputs": [
        {
          "output_type": "stream",
          "name": "stdout",
          "text": [
            "<class 'pandas.core.frame.DataFrame'>\n",
            "RangeIndex: 336 entries, 0 to 335\n",
            "Data columns (total 9 columns):\n",
            " #   Column  Non-Null Count  Dtype  \n",
            "---  ------  --------------  -----  \n",
            " 0   1       336 non-null    object \n",
            " 1   2       336 non-null    float64\n",
            " 2   3       336 non-null    float64\n",
            " 3   4       336 non-null    float64\n",
            " 4   5       336 non-null    float64\n",
            " 5   6       336 non-null    float64\n",
            " 6   7       336 non-null    float64\n",
            " 7   8       336 non-null    float64\n",
            " 8   class   336 non-null    object \n",
            "dtypes: float64(7), object(2)\n",
            "memory usage: 23.8+ KB\n"
          ]
        }
      ]
    },
    {
      "cell_type": "code",
      "source": [
        "counts = ecoli_df['class'].value_counts()\n",
        "counts"
      ],
      "metadata": {
        "colab": {
          "base_uri": "https://localhost:8080/"
        },
        "id": "zoPEUGlfJ_wK",
        "outputId": "1ada6ea4-1537-4cd1-e9ca-a9e86b53ec87"
      },
      "execution_count": null,
      "outputs": [
        {
          "output_type": "execute_result",
          "data": {
            "text/plain": [
              "cp     143\n",
              "im      77\n",
              "pp      52\n",
              "imU     35\n",
              "om      20\n",
              "omL      5\n",
              "imS      2\n",
              "imL      2\n",
              "Name: class, dtype: int64"
            ]
          },
          "metadata": {},
          "execution_count": 6
        }
      ]
    },
    {
      "cell_type": "code",
      "source": [
        "counts.plot(kind='bar')\n",
        "#plt.savefig('counts.png')"
      ],
      "metadata": {
        "colab": {
          "base_uri": "https://localhost:8080/",
          "height": 294
        },
        "id": "B9wYXbduW1NW",
        "outputId": "612806ed-c212-444f-96c1-c8dd83749eec"
      },
      "execution_count": null,
      "outputs": [
        {
          "output_type": "execute_result",
          "data": {
            "text/plain": [
              "<matplotlib.axes._subplots.AxesSubplot at 0x7fcc2ff4e790>"
            ]
          },
          "metadata": {},
          "execution_count": 7
        },
        {
          "output_type": "display_data",
          "data": {
            "text/plain": [
              "<Figure size 432x288 with 1 Axes>"
            ],
            "image/png": "[encoded data removed]"
          },
          "metadata": {
            "needs_background": "light"
          }
        }
      ]
    },
    {
      "cell_type": "code",
      "source": [
        "ecoli_df = ecoli_df[~ecoli_df['class'].isin(counts[counts <= 5].index)]\n",
        "ecoli_df = ecoli_df.reset_index(drop=True)\n",
        "ecoli_df.info()"
      ],
      "metadata": {
        "colab": {
          "base_uri": "https://localhost:8080/"
        },
        "id": "nAtedLaKQUZR",
        "outputId": "46911688-dfbb-4f60-e80c-4a37b3a770b0"
      },
      "execution_count": null,
      "outputs": [
        {
          "output_type": "stream",
          "name": "stdout",
          "text": [
            "<class 'pandas.core.frame.DataFrame'>\n",
            "RangeIndex: 327 entries, 0 to 326\n",
            "Data columns (total 9 columns):\n",
            " #   Column  Non-Null Count  Dtype  \n",
            "---  ------  --------------  -----  \n",
            " 0   1       327 non-null    object \n",
            " 1   2       327 non-null    float64\n",
            " 2   3       327 non-null    float64\n",
            " 3   4       327 non-null    float64\n",
            " 4   5       327 non-null    float64\n",
            " 5   6       327 non-null    float64\n",
            " 6   7       327 non-null    float64\n",
            " 7   8       327 non-null    float64\n",
            " 8   class   327 non-null    object \n",
            "dtypes: float64(7), object(2)\n",
            "memory usage: 23.1+ KB\n"
          ]
        }
      ]
    },
    {
      "cell_type": "code",
      "source": [
        "ecoli_df['1'].nunique()"
      ],
      "metadata": {
        "colab": {
          "base_uri": "https://localhost:8080/"
        },
        "id": "JlQ3FSAYPqXO",
        "outputId": "aa6455d9-f21c-469d-91c9-713067ed1790"
      },
      "execution_count": null,
      "outputs": [
        {
          "output_type": "execute_result",
          "data": {
            "text/plain": [
              "327"
            ]
          },
          "metadata": {},
          "execution_count": 9
        }
      ]
    },
    {
      "cell_type": "code",
      "source": [
        "# since the first column contains identifiers it can be dropped\n",
        "ecoli_df = ecoli_df.drop(['1'], axis=1)"
      ],
      "metadata": {
        "id": "GlyrW5sFQdbV"
      },
      "execution_count": null,
      "outputs": []
    },
    {
      "cell_type": "markdown",
      "source": [
        "### Data Imputation\n",
        "\n",
        "\n",
        "*   Standard Imputation = **Median**\n",
        "*   Advanced Imputation = **MICE**\n",
        "\n"
      ],
      "metadata": {
        "id": "WQU6hO7YrsTv"
      }
    },
    {
      "cell_type": "code",
      "source": [
        "# create dirty datasets\n",
        "dirty_datasets_med = dc.injection(ecoli_df, seed, 'ecoli', 'class')\n",
        "dirty_datasets_mice = dirty_datasets_med.copy()"
      ],
      "metadata": {
        "colab": {
          "base_uri": "https://localhost:8080/"
        },
        "id": "CztkdI8yicVa",
        "outputId": "b983ebbf-2b9c-43f6-9844-f58fb8245a21"
      },
      "execution_count": null,
      "outputs": [
        {
          "output_type": "stream",
          "name": "stdout",
          "text": [
            "saved ecoli-completeness50%\n",
            "saved ecoli-completeness60%\n",
            "saved ecoli-completeness70%\n",
            "saved ecoli-completeness80%\n",
            "saved ecoli-completeness90%\n"
          ]
        }
      ]
    },
    {
      "cell_type": "code",
      "source": [
        "# extract the target classes from the dataset\n",
        "y = ecoli_df['class']\n",
        "classes = ecoli_df['class'].unique()\n",
        "ecoli_df = ecoli_df.drop(['class'], axis=1)\n",
        "classes"
      ],
      "metadata": {
        "colab": {
          "base_uri": "https://localhost:8080/"
        },
        "id": "IqjeBMSTRuDA",
        "outputId": "c94cfd3b-5cd2-456d-c0e5-14e952048b6f"
      },
      "execution_count": null,
      "outputs": [
        {
          "output_type": "execute_result",
          "data": {
            "text/plain": [
              "array(['cp', 'im', 'imU', 'om', 'pp'], dtype=object)"
            ]
          },
          "metadata": {},
          "execution_count": 11
        }
      ]
    },
    {
      "cell_type": "code",
      "source": [
        "# check which are the columns with missing data\n",
        "dirty_target_med = []\n",
        "dirty_target_mice = []\n",
        "\n",
        "for i in range(len(dirty_datasets_med)):\n",
        "\n",
        "  dirty_target_med.append(dirty_datasets_med[i]['class'])\n",
        "  dirty_datasets_med[i] = dirty_datasets_med[i].drop(['class'], axis=1)\n",
        "\n",
        "  dirty_target_mice.append(dirty_datasets_mice[i]['class'])\n",
        "  dirty_datasets_mice[i] = dirty_datasets_mice[i].drop(['class'], axis=1)\n",
        "\n",
        "  print(dirty_datasets_med[i].isnull().sum(), dirty_datasets_mice[i].isnull().sum())"
      ],
      "metadata": {
        "colab": {
          "base_uri": "https://localhost:8080/"
        },
        "id": "DPsubHM3Gd8I",
        "outputId": "059d2c1e-9ec3-4d27-9627-fe3be043351a"
      },
      "execution_count": null,
      "outputs": [
        {
          "output_type": "stream",
          "name": "stdout",
          "text": [
            "2    155\n",
            "3    165\n",
            "4    173\n",
            "5    155\n",
            "6    159\n",
            "7    158\n",
            "8    159\n",
            "dtype: int64 2    155\n",
            "3    165\n",
            "4    173\n",
            "5    155\n",
            "6    159\n",
            "7    158\n",
            "8    159\n",
            "dtype: int64\n",
            "2    136\n",
            "3    137\n",
            "4    133\n",
            "5    127\n",
            "6    137\n",
            "7    140\n",
            "8    130\n",
            "dtype: int64 2    136\n",
            "3    137\n",
            "4    133\n",
            "5    127\n",
            "6    137\n",
            "7    140\n",
            "8    130\n",
            "dtype: int64\n",
            "2    102\n",
            "3     87\n",
            "4     98\n",
            "5    103\n",
            "6    107\n",
            "7     91\n",
            "8    100\n",
            "dtype: int64 2    102\n",
            "3     87\n",
            "4     98\n",
            "5    103\n",
            "6    107\n",
            "7     91\n",
            "8    100\n",
            "dtype: int64\n",
            "2    61\n",
            "3    72\n",
            "4    69\n",
            "5    68\n",
            "6    75\n",
            "7    64\n",
            "8    53\n",
            "dtype: int64 2    61\n",
            "3    72\n",
            "4    69\n",
            "5    68\n",
            "6    75\n",
            "7    64\n",
            "8    53\n",
            "dtype: int64\n",
            "2    30\n",
            "3    32\n",
            "4    39\n",
            "5    25\n",
            "6    30\n",
            "7    36\n",
            "8    26\n",
            "dtype: int64 2    30\n",
            "3    32\n",
            "4    39\n",
            "5    25\n",
            "6    30\n",
            "7    36\n",
            "8    26\n",
            "dtype: int64\n"
          ]
        }
      ]
    },
    {
      "cell_type": "code",
      "source": [
        "masks_med = [data.isnull() for data in dirty_datasets_med]\n",
        "masks_mice = [data.isnull() for data in dirty_datasets_mice]"
      ],
      "metadata": {
        "id": "P8WYzLY2hHh5"
      },
      "execution_count": null,
      "outputs": []
    },
    {
      "cell_type": "code",
      "source": [
        "from sklearn.experimental import enable_iterative_imputer\n",
        "from sklearn.impute import SimpleImputer, KNNImputer, IterativeImputer"
      ],
      "metadata": {
        "id": "7Lhys6P5EIhc"
      },
      "execution_count": null,
      "outputs": []
    },
    {
      "cell_type": "code",
      "source": [
        "# median imputation\n",
        "for i in range(len(dirty_datasets_med)):\n",
        "\n",
        "  simple_imputer = SimpleImputer(missing_values=np.NaN, strategy='median')\n",
        "  imp = simple_imputer.fit_transform(dirty_datasets_med[i])\n",
        "  dirty_datasets_med[i] = pd.DataFrame(imp, columns=ecoli_df.columns)\n",
        "  #data.info()"
      ],
      "metadata": {
        "id": "NoUtm3bLVazV"
      },
      "execution_count": null,
      "outputs": []
    },
    {
      "cell_type": "code",
      "source": [
        "dirty_datasets_med[0].isnull().sum()"
      ],
      "metadata": {
        "colab": {
          "base_uri": "https://localhost:8080/"
        },
        "id": "AruOaID_r0f6",
        "outputId": "79043731-6be2-4b43-9f2b-626709ee1116"
      },
      "execution_count": null,
      "outputs": [
        {
          "output_type": "execute_result",
          "data": {
            "text/plain": [
              "2    0\n",
              "3    0\n",
              "4    0\n",
              "5    0\n",
              "6    0\n",
              "7    0\n",
              "8    0\n",
              "dtype: int64"
            ]
          },
          "metadata": {},
          "execution_count": 16
        }
      ]
    },
    {
      "cell_type": "code",
      "source": [
        "from sklearn.compose import ColumnTransformer\n",
        "from sklearn.neighbors import KNeighborsRegressor"
      ],
      "metadata": {
        "id": "duZck9mcBjdQ"
      },
      "execution_count": null,
      "outputs": []
    },
    {
      "cell_type": "code",
      "source": [
        "# mice imputation\n",
        "multivariate_impute_pipe = ColumnTransformer([\n",
        "    (\"impute_num\", IterativeImputer(estimator=KNeighborsRegressor(n_neighbors=15), max_iter=100), ecoli_df.columns)\n",
        "]\n",
        ")\n",
        "\n",
        "for i in range(len(dirty_datasets_mice)):\n",
        "\n",
        "  imp = multivariate_impute_pipe.fit_transform(dirty_datasets_mice[i])\n",
        "  dirty_datasets_mice[i] = pd.DataFrame(imp, columns=ecoli_df.columns)"
      ],
      "metadata": {
        "id": "NMN1csXIBkPJ",
        "colab": {
          "base_uri": "https://localhost:8080/"
        },
        "outputId": "e8ad6954-ea13-474c-b31b-592311acb5c8"
      },
      "execution_count": null,
      "outputs": [
        {
          "output_type": "stream",
          "name": "stderr",
          "text": [
            "/usr/local/lib/python3.8/dist-packages/sklearn/impute/_iterative.py:699: ConvergenceWarning: [IterativeImputer] Early stopping criterion not reached.\n",
            "  warnings.warn(\n",
            "/usr/local/lib/python3.8/dist-packages/sklearn/impute/_iterative.py:699: ConvergenceWarning: [IterativeImputer] Early stopping criterion not reached.\n",
            "  warnings.warn(\n",
            "/usr/local/lib/python3.8/dist-packages/sklearn/impute/_iterative.py:699: ConvergenceWarning: [IterativeImputer] Early stopping criterion not reached.\n",
            "  warnings.warn(\n",
            "/usr/local/lib/python3.8/dist-packages/sklearn/impute/_iterative.py:699: ConvergenceWarning: [IterativeImputer] Early stopping criterion not reached.\n",
            "  warnings.warn(\n",
            "/usr/local/lib/python3.8/dist-packages/sklearn/impute/_iterative.py:699: ConvergenceWarning: [IterativeImputer] Early stopping criterion not reached.\n",
            "  warnings.warn(\n"
          ]
        }
      ]
    },
    {
      "cell_type": "code",
      "source": [
        "# check that all missing values have been imputed\n",
        "dirty_datasets_mice[0].isnull().sum()"
      ],
      "metadata": {
        "colab": {
          "base_uri": "https://localhost:8080/"
        },
        "id": "Jp2hY9mKtI7u",
        "outputId": "0bbde173-2dce-42ca-9c75-0ca277835353"
      },
      "execution_count": null,
      "outputs": [
        {
          "output_type": "execute_result",
          "data": {
            "text/plain": [
              "2    0\n",
              "3    0\n",
              "4    0\n",
              "5    0\n",
              "6    0\n",
              "7    0\n",
              "8    0\n",
              "dtype: int64"
            ]
          },
          "metadata": {},
          "execution_count": 18
        }
      ]
    },
    {
      "cell_type": "markdown",
      "source": [
        "Evaluate Imputation"
      ],
      "metadata": {
        "id": "aWPgk18Jahrs"
      }
    },
    {
      "cell_type": "code",
      "source": [
        "from sklearn.metrics import mean_squared_error"
      ],
      "metadata": {
        "id": "jJYYfkNJmvuG"
      },
      "execution_count": null,
      "outputs": []
    },
    {
      "cell_type": "code",
      "source": [
        "# median evaluation\n",
        "\n",
        "rmse_med = []\n",
        "\n",
        "for i, data in enumerate(dirty_datasets_med):\n",
        "\n",
        "  mask = masks_med[i]\n",
        "\n",
        "  val = ecoli_df[mask].values\n",
        "  true_values = val[~np.isnan(val)]\n",
        "  \n",
        "  val = data[mask].values\n",
        "  imp_values = val[~np.isnan(val)]\n",
        "\n",
        "  rmse = np.sqrt(mean_squared_error(true_values[:,None], imp_values[:,None]))\n",
        "  rmse_med.append(rmse)"
      ],
      "metadata": {
        "id": "maIs38dlcIfy"
      },
      "execution_count": null,
      "outputs": []
    },
    {
      "cell_type": "code",
      "source": [
        "# mice evaluation\n",
        "\n",
        "rmse_mice = []\n",
        "\n",
        "for i, data in enumerate(dirty_datasets_mice):\n",
        "\n",
        "  mask = masks_mice[i]\n",
        "\n",
        "  val = ecoli_df[mask].values\n",
        "  true_values = val[~np.isnan(val)]\n",
        "  \n",
        "  val = data[mask].values\n",
        "  imp_values = val[~np.isnan(val)]\n",
        "\n",
        "  rmse = np.sqrt(mean_squared_error(true_values[:,None], imp_values[:,None]))\n",
        "  rmse_mice.append(rmse)"
      ],
      "metadata": {
        "id": "UXl9IOBgnENM"
      },
      "execution_count": null,
      "outputs": []
    },
    {
      "cell_type": "code",
      "source": [
        "dirty_proportions = ['50%', '60%', '70%', '80%', '90%']\n",
        "df = pd.DataFrame({'RMSE Median Imputation': rmse_med, 'RMSE Mice Imputation': rmse_mice}, index=dirty_proportions)\n",
        "\n",
        "fig, ax = plt.subplots(figsize=(20, 9))\n",
        "df.plot.bar(ax=ax, rot=0)\n",
        "ax.set(xlabel='Percentage of Missing Values', ylabel='RMSE')\n",
        "plt.savefig('rmse.png')\n",
        "plt.show()"
      ],
      "metadata": {
        "colab": {
          "base_uri": "https://localhost:8080/",
          "height": 551
        },
        "id": "u_nJVFHOqdA7",
        "outputId": "e66c52be-76e5-4097-be50-2a34c2809be3"
      },
      "execution_count": null,
      "outputs": [
        {
          "output_type": "display_data",
          "data": {
            "text/plain": [
              "<Figure size 1440x648 with 1 Axes>"
            ],
            "image/png": "[encoded data removed]"
          },
          "metadata": {
            "needs_background": "light"
          }
        }
      ]
    },
    {
      "cell_type": "markdown",
      "source": [
        "### Classification\n",
        "\n",
        "\n",
        "\n",
        "*   **Logistic Regression**\n",
        "*   **SVM**\n",
        "\n"
      ],
      "metadata": {
        "id": "mjhA1pLyjHjq"
      }
    },
    {
      "cell_type": "code",
      "source": [
        "from sklearn.model_selection import train_test_split"
      ],
      "metadata": {
        "id": "Qx19X58Qi6J_"
      },
      "execution_count": null,
      "outputs": []
    },
    {
      "cell_type": "markdown",
      "source": [
        "Train-Test Split"
      ],
      "metadata": {
        "id": "eC1G9_Rv06oE"
      }
    },
    {
      "cell_type": "code",
      "source": [
        "X_train_med = []\n",
        "X_test_med = []\n",
        "y_train_med = []\n",
        "y_test_med = []\n",
        "\n",
        "for i in range(len(dirty_datasets_med)):\n",
        "\n",
        "  X = dirty_datasets_med[i]\n",
        "  y= dirty_target_med[i]\n",
        "  X_train, X_test, y_train, y_test = train_test_split(X, y, test_size=0.2, random_state=seed, stratify=y)\n",
        "  \n",
        "  X_train_med.append(X_train)\n",
        "  X_test_med.append(X_test)\n",
        "  y_train_med.append(y_train)\n",
        "  y_test_med.append(y_test)"
      ],
      "metadata": {
        "id": "gT8qLX9LvpM_"
      },
      "execution_count": null,
      "outputs": []
    },
    {
      "cell_type": "code",
      "source": [
        "X_train_mice = []\n",
        "X_test_mice = []\n",
        "y_train_mice = []\n",
        "y_test_mice = []\n",
        "\n",
        "for i in range(len(dirty_datasets_mice)):\n",
        "\n",
        "  X = dirty_datasets_mice[i]\n",
        "  y= dirty_target_mice[i]\n",
        "  X_train, X_test, y_train, y_test = train_test_split(X, y, test_size=0.2, random_state=seed, stratify=y)\n",
        "  \n",
        "  X_train_mice.append(X_train)\n",
        "  X_test_mice.append(X_test)\n",
        "  y_train_mice.append(y_train)\n",
        "  y_test_mice.append(y_test)"
      ],
      "metadata": {
        "id": "kE6yZz0UyDsd"
      },
      "execution_count": null,
      "outputs": []
    },
    {
      "cell_type": "markdown",
      "source": [
        "Classification"
      ],
      "metadata": {
        "id": "RYAerlYu0-r6"
      }
    },
    {
      "cell_type": "code",
      "source": [
        "from sklearn.metrics import accuracy_score, f1_score, precision_score, recall_score\n",
        "from sklearn.metrics import ConfusionMatrixDisplay, confusion_matrix, classification_report"
      ],
      "metadata": {
        "id": "-MLArcCS4jJc"
      },
      "execution_count": null,
      "outputs": []
    },
    {
      "cell_type": "code",
      "source": [
        "from sklearn.linear_model import LogisticRegression"
      ],
      "metadata": {
        "id": "dfQBRPIEzql6"
      },
      "execution_count": null,
      "outputs": []
    },
    {
      "cell_type": "code",
      "source": [
        "from sklearn.svm import SVC"
      ],
      "metadata": {
        "id": "-ahP3UexPglG"
      },
      "execution_count": null,
      "outputs": []
    },
    {
      "cell_type": "code",
      "source": [
        "# list of metrics for Logistic Regression\n",
        "accuracies_lr_med = []\n",
        "precisions_lr_med = []\n",
        "recalls_lr_med = []\n",
        "f1scores_lr_med = []\n",
        "metrics_lr_med = []"
      ],
      "metadata": {
        "id": "qbIs4EAeG_KU"
      },
      "execution_count": null,
      "outputs": []
    },
    {
      "cell_type": "code",
      "source": [
        "# list of metrics for SVM\n",
        "accuracies_svm_med = []\n",
        "precisions_svm_med = []\n",
        "recalls_svm_med = []\n",
        "f1scores_svm_med = []\n",
        "metrics_svm_med = []"
      ],
      "metadata": {
        "id": "hlFoYRx_Q6C_"
      },
      "execution_count": null,
      "outputs": []
    },
    {
      "cell_type": "code",
      "source": [
        "for (X_train, X_test, y_train, y_test) in zip(X_train_med, X_test_med, y_train_med, y_test_med):\n",
        "\n",
        "  logisticClassifier = LogisticRegression(multi_class='multinomial')\n",
        "  logisticClassifier.fit(X_train, y_train)\n",
        "  y_pred_lr = logisticClassifier.predict(X_test)\n",
        "\n",
        "  accuracy = accuracy_score(y_test, y_pred_lr)\n",
        "  accuracies_lr_med.append(accuracy)\n",
        "\n",
        "  precision = precision_score(y_test, y_pred_lr, average='macro')\n",
        "  precisions_lr_med.append(precision)\n",
        "\n",
        "  recall = recall_score(y_test, y_pred_lr, average='macro')\n",
        "  recalls_lr_med.append(recall)\n",
        "\n",
        "  f1 = f1_score(y_test, y_pred_lr, average='macro')\n",
        "  f1scores_lr_med.append(f1)\n",
        "\n",
        "  svmClassifier = SVC(kernel='rbf', decision_function_shape='ovo')\n",
        "  svmClassifier.fit(X_train, y_train)\n",
        "  y_pred_svm = svmClassifier.predict(X_test)\n",
        "\n",
        "  accuracy = accuracy_score(y_test, y_pred_svm)\n",
        "  accuracies_svm_med.append(accuracy)\n",
        "\n",
        "  precision = precision_score(y_test, y_pred_svm, average='macro')\n",
        "  precisions_svm_med.append(precision)\n",
        "\n",
        "  recall = recall_score(y_test, y_pred_svm, average='macro')\n",
        "  recalls_svm_med.append(recall)\n",
        "\n",
        "  f1 = f1_score(y_test, y_pred_svm, average='macro')\n",
        "  f1scores_svm_med.append(f1)\n",
        "\n",
        "\n",
        "  print(classification_report(y_test, y_pred_lr))\n",
        "  print(classification_report(y_test, y_pred_svm))"
      ],
      "metadata": {
        "id": "liaqcIWr1iU5",
        "colab": {
          "base_uri": "https://localhost:8080/"
        },
        "outputId": "092afc55-d279-4672-aba7-c1289e1e6e97"
      },
      "execution_count": null,
      "outputs": [
        {
          "output_type": "stream",
          "name": "stderr",
          "text": [
            "/usr/local/lib/python3.8/dist-packages/sklearn/metrics/_classification.py:1318: UndefinedMetricWarning: Precision is ill-defined and being set to 0.0 in labels with no predicted samples. Use `zero_division` parameter to control this behavior.\n",
            "  _warn_prf(average, modifier, msg_start, len(result))\n",
            "/usr/local/lib/python3.8/dist-packages/sklearn/metrics/_classification.py:1318: UndefinedMetricWarning: Precision and F-score are ill-defined and being set to 0.0 in labels with no predicted samples. Use `zero_division` parameter to control this behavior.\n",
            "  _warn_prf(average, modifier, msg_start, len(result))\n",
            "/usr/local/lib/python3.8/dist-packages/sklearn/metrics/_classification.py:1318: UndefinedMetricWarning: Precision and F-score are ill-defined and being set to 0.0 in labels with no predicted samples. Use `zero_division` parameter to control this behavior.\n",
            "  _warn_prf(average, modifier, msg_start, len(result))\n",
            "/usr/local/lib/python3.8/dist-packages/sklearn/metrics/_classification.py:1318: UndefinedMetricWarning: Precision and F-score are ill-defined and being set to 0.0 in labels with no predicted samples. Use `zero_division` parameter to control this behavior.\n",
            "  _warn_prf(average, modifier, msg_start, len(result))\n",
            "/usr/local/lib/python3.8/dist-packages/sklearn/metrics/_classification.py:1318: UndefinedMetricWarning: Precision is ill-defined and being set to 0.0 in labels with no predicted samples. Use `zero_division` parameter to control this behavior.\n",
            "  _warn_prf(average, modifier, msg_start, len(result))\n",
            "/usr/local/lib/python3.8/dist-packages/sklearn/metrics/_classification.py:1318: UndefinedMetricWarning: Precision and F-score are ill-defined and being set to 0.0 in labels with no predicted samples. Use `zero_division` parameter to control this behavior.\n",
            "  _warn_prf(average, modifier, msg_start, len(result))\n",
            "/usr/local/lib/python3.8/dist-packages/sklearn/metrics/_classification.py:1318: UndefinedMetricWarning: Precision and F-score are ill-defined and being set to 0.0 in labels with no predicted samples. Use `zero_division` parameter to control this behavior.\n",
            "  _warn_prf(average, modifier, msg_start, len(result))\n",
            "/usr/local/lib/python3.8/dist-packages/sklearn/metrics/_classification.py:1318: UndefinedMetricWarning: Precision and F-score are ill-defined and being set to 0.0 in labels with no predicted samples. Use `zero_division` parameter to control this behavior.\n",
            "  _warn_prf(average, modifier, msg_start, len(result))\n",
            "/usr/local/lib/python3.8/dist-packages/sklearn/metrics/_classification.py:1318: UndefinedMetricWarning: Precision is ill-defined and being set to 0.0 in labels with no predicted samples. Use `zero_division` parameter to control this behavior.\n",
            "  _warn_prf(average, modifier, msg_start, len(result))\n",
            "/usr/local/lib/python3.8/dist-packages/sklearn/metrics/_classification.py:1318: UndefinedMetricWarning: Precision and F-score are ill-defined and being set to 0.0 in labels with no predicted samples. Use `zero_division` parameter to control this behavior.\n",
            "  _warn_prf(average, modifier, msg_start, len(result))\n",
            "/usr/local/lib/python3.8/dist-packages/sklearn/metrics/_classification.py:1318: UndefinedMetricWarning: Precision and F-score are ill-defined and being set to 0.0 in labels with no predicted samples. Use `zero_division` parameter to control this behavior.\n",
            "  _warn_prf(average, modifier, msg_start, len(result))\n",
            "/usr/local/lib/python3.8/dist-packages/sklearn/metrics/_classification.py:1318: UndefinedMetricWarning: Precision and F-score are ill-defined and being set to 0.0 in labels with no predicted samples. Use `zero_division` parameter to control this behavior.\n",
            "  _warn_prf(average, modifier, msg_start, len(result))\n"
          ]
        },
        {
          "output_type": "stream",
          "name": "stdout",
          "text": [
            "              precision    recall  f1-score   support\n",
            "\n",
            "          cp       0.67      1.00      0.81        29\n",
            "          im       0.53      0.50      0.52        16\n",
            "         imU       0.00      0.00      0.00         7\n",
            "          om       0.00      0.00      0.00         4\n",
            "          pp       0.57      0.40      0.47        10\n",
            "\n",
            "    accuracy                           0.62        66\n",
            "   macro avg       0.36      0.38      0.36        66\n",
            "weighted avg       0.51      0.62      0.55        66\n",
            "\n",
            "              precision    recall  f1-score   support\n",
            "\n",
            "          cp       0.78      1.00      0.88        29\n",
            "          im       0.62      0.50      0.55        16\n",
            "         imU       0.40      0.29      0.33         7\n",
            "          om       0.50      0.25      0.33         4\n",
            "          pp       0.67      0.60      0.63        10\n",
            "\n",
            "    accuracy                           0.70        66\n",
            "   macro avg       0.59      0.53      0.55        66\n",
            "weighted avg       0.67      0.70      0.67        66\n",
            "\n",
            "              precision    recall  f1-score   support\n",
            "\n",
            "          cp       0.74      1.00      0.85        29\n",
            "          im       0.69      0.69      0.69        16\n",
            "         imU       1.00      0.43      0.60         7\n",
            "          om       0.00      0.00      0.00         4\n",
            "          pp       0.62      0.50      0.56        10\n",
            "\n",
            "    accuracy                           0.73        66\n",
            "   macro avg       0.61      0.52      0.54        66\n",
            "weighted avg       0.69      0.73      0.69        66\n",
            "\n",
            "              precision    recall  f1-score   support\n",
            "\n",
            "          cp       0.87      0.93      0.90        29\n",
            "          im       0.69      0.69      0.69        16\n",
            "         imU       0.80      0.57      0.67         7\n",
            "          om       1.00      0.75      0.86         4\n",
            "          pp       0.82      0.90      0.86        10\n",
            "\n",
            "    accuracy                           0.82        66\n",
            "   macro avg       0.84      0.77      0.79        66\n",
            "weighted avg       0.82      0.82      0.81        66\n",
            "\n",
            "              precision    recall  f1-score   support\n",
            "\n",
            "          cp       0.78      1.00      0.88        29\n",
            "          im       0.70      0.88      0.78        16\n",
            "         imU       1.00      0.14      0.25         7\n",
            "          om       0.00      0.00      0.00         4\n",
            "          pp       0.88      0.70      0.78        10\n",
            "\n",
            "    accuracy                           0.77        66\n",
            "   macro avg       0.67      0.54      0.54        66\n",
            "weighted avg       0.75      0.77      0.72        66\n",
            "\n",
            "              precision    recall  f1-score   support\n",
            "\n",
            "          cp       0.94      1.00      0.97        29\n",
            "          im       0.69      0.69      0.69        16\n",
            "         imU       0.43      0.43      0.43         7\n",
            "          om       1.00      0.50      0.67         4\n",
            "          pp       0.90      0.90      0.90        10\n",
            "\n",
            "    accuracy                           0.82        66\n",
            "   macro avg       0.79      0.70      0.73        66\n",
            "weighted avg       0.82      0.82      0.81        66\n",
            "\n",
            "              precision    recall  f1-score   support\n",
            "\n",
            "          cp       0.91      1.00      0.95        29\n",
            "          im       0.67      0.50      0.57        16\n",
            "         imU       0.43      0.43      0.43         7\n",
            "          om       1.00      0.50      0.67         4\n",
            "          pp       0.77      1.00      0.87        10\n",
            "\n",
            "    accuracy                           0.79        66\n",
            "   macro avg       0.75      0.69      0.70        66\n",
            "weighted avg       0.78      0.79      0.77        66\n",
            "\n",
            "              precision    recall  f1-score   support\n",
            "\n",
            "          cp       0.94      1.00      0.97        29\n",
            "          im       0.83      0.62      0.71        16\n",
            "         imU       0.62      0.71      0.67         7\n",
            "          om       1.00      0.50      0.67         4\n",
            "          pp       0.77      1.00      0.87        10\n",
            "\n",
            "    accuracy                           0.85        66\n",
            "   macro avg       0.83      0.77      0.78        66\n",
            "weighted avg       0.86      0.85      0.84        66\n",
            "\n",
            "              precision    recall  f1-score   support\n",
            "\n",
            "          cp       0.88      1.00      0.94        29\n",
            "          im       0.93      0.81      0.87        16\n",
            "         imU       0.75      0.86      0.80         7\n",
            "          om       1.00      0.50      0.67         4\n",
            "          pp       0.78      0.70      0.74        10\n",
            "\n",
            "    accuracy                           0.86        66\n",
            "   macro avg       0.87      0.77      0.80        66\n",
            "weighted avg       0.87      0.86      0.86        66\n",
            "\n",
            "              precision    recall  f1-score   support\n",
            "\n",
            "          cp       0.97      1.00      0.98        29\n",
            "          im       0.92      0.69      0.79        16\n",
            "         imU       0.64      1.00      0.78         7\n",
            "          om       1.00      1.00      1.00         4\n",
            "          pp       1.00      0.90      0.95        10\n",
            "\n",
            "    accuracy                           0.91        66\n",
            "   macro avg       0.90      0.92      0.90        66\n",
            "weighted avg       0.93      0.91      0.91        66\n",
            "\n"
          ]
        }
      ]
    },
    {
      "cell_type": "code",
      "source": [
        "metrics_lr_med.extend([accuracies_lr_med, precisions_lr_med, recalls_lr_med, f1scores_lr_med])\n",
        "metrics_svm_med.extend([accuracies_svm_med, precisions_svm_med, recalls_svm_med, f1scores_svm_med])"
      ],
      "metadata": {
        "id": "o3ArzZvp3DWZ"
      },
      "execution_count": null,
      "outputs": []
    },
    {
      "cell_type": "code",
      "source": [
        "# list of metrics for Logistic Regression\n",
        "accuracies_lr_mice = []\n",
        "precisions_lr_mice = []\n",
        "recalls_lr_mice = []\n",
        "f1scores_lr_mice = []\n",
        "metrics_lr_mice = []"
      ],
      "metadata": {
        "id": "zfwD55hYVmKN"
      },
      "execution_count": null,
      "outputs": []
    },
    {
      "cell_type": "code",
      "source": [
        "# list of metrics for SVM\n",
        "accuracies_svm_mice = []\n",
        "precisions_svm_mice = []\n",
        "recalls_svm_mice = []\n",
        "f1scores_svm_mice = []\n",
        "metrics_svm_mice = []"
      ],
      "metadata": {
        "id": "Nvi5yiQeVmKU"
      },
      "execution_count": null,
      "outputs": []
    },
    {
      "cell_type": "code",
      "source": [
        "for (X_train, X_test, y_train, y_test) in zip(X_train_mice, X_test_mice, y_train_mice, y_test_mice):\n",
        "\n",
        "  logisticClassifier = LogisticRegression(multi_class='multinomial')\n",
        "  logisticClassifier.fit(X_train, y_train)\n",
        "  y_pred_lr = logisticClassifier.predict(X_test)\n",
        "\n",
        "  accuracy = accuracy_score(y_test, y_pred_lr)\n",
        "  accuracies_lr_mice.append(accuracy)\n",
        "\n",
        "  precision = precision_score(y_test, y_pred_lr, average='macro')\n",
        "  precisions_lr_mice.append(precision)\n",
        "\n",
        "  recall = recall_score(y_test, y_pred_lr, average='macro')\n",
        "  recalls_lr_mice.append(recall)\n",
        "\n",
        "  f1 = f1_score(y_test, y_pred_lr, average='macro')\n",
        "  f1scores_lr_mice.append(f1)\n",
        "\n",
        "  svmClassifier = SVC(kernel='rbf', decision_function_shape='ovo')\n",
        "  svmClassifier.fit(X_train, y_train)\n",
        "  y_pred_svm = svmClassifier.predict(X_test)\n",
        "\n",
        "  accuracy = accuracy_score(y_test, y_pred_svm)\n",
        "  accuracies_svm_mice.append(accuracy)\n",
        "\n",
        "  precision = precision_score(y_test, y_pred_svm, average='macro')\n",
        "  precisions_svm_mice.append(precision)\n",
        "\n",
        "  recall = recall_score(y_test, y_pred_svm, average='macro')\n",
        "  recalls_svm_mice.append(recall)\n",
        "\n",
        "  f1 = f1_score(y_test, y_pred_svm, average='macro')\n",
        "  f1scores_svm_mice.append(f1)\n",
        "\n",
        "  print(classification_report(y_test, y_pred_lr))\n",
        "  print(classification_report(y_test, y_pred_svm))"
      ],
      "metadata": {
        "colab": {
          "base_uri": "https://localhost:8080/"
        },
        "id": "V_txscsxFHix",
        "outputId": "8428d1be-8169-42bf-fb90-71daea86e79a"
      },
      "execution_count": null,
      "outputs": [
        {
          "output_type": "stream",
          "name": "stderr",
          "text": [
            "/usr/local/lib/python3.8/dist-packages/sklearn/metrics/_classification.py:1318: UndefinedMetricWarning: Precision is ill-defined and being set to 0.0 in labels with no predicted samples. Use `zero_division` parameter to control this behavior.\n",
            "  _warn_prf(average, modifier, msg_start, len(result))\n",
            "/usr/local/lib/python3.8/dist-packages/sklearn/metrics/_classification.py:1318: UndefinedMetricWarning: Precision is ill-defined and being set to 0.0 in labels with no predicted samples. Use `zero_division` parameter to control this behavior.\n",
            "  _warn_prf(average, modifier, msg_start, len(result))\n",
            "/usr/local/lib/python3.8/dist-packages/sklearn/metrics/_classification.py:1318: UndefinedMetricWarning: Precision and F-score are ill-defined and being set to 0.0 in labels with no predicted samples. Use `zero_division` parameter to control this behavior.\n",
            "  _warn_prf(average, modifier, msg_start, len(result))\n",
            "/usr/local/lib/python3.8/dist-packages/sklearn/metrics/_classification.py:1318: UndefinedMetricWarning: Precision and F-score are ill-defined and being set to 0.0 in labels with no predicted samples. Use `zero_division` parameter to control this behavior.\n",
            "  _warn_prf(average, modifier, msg_start, len(result))\n",
            "/usr/local/lib/python3.8/dist-packages/sklearn/metrics/_classification.py:1318: UndefinedMetricWarning: Precision and F-score are ill-defined and being set to 0.0 in labels with no predicted samples. Use `zero_division` parameter to control this behavior.\n",
            "  _warn_prf(average, modifier, msg_start, len(result))\n",
            "/usr/local/lib/python3.8/dist-packages/sklearn/metrics/_classification.py:1318: UndefinedMetricWarning: Precision and F-score are ill-defined and being set to 0.0 in labels with no predicted samples. Use `zero_division` parameter to control this behavior.\n",
            "  _warn_prf(average, modifier, msg_start, len(result))\n",
            "/usr/local/lib/python3.8/dist-packages/sklearn/metrics/_classification.py:1318: UndefinedMetricWarning: Precision and F-score are ill-defined and being set to 0.0 in labels with no predicted samples. Use `zero_division` parameter to control this behavior.\n",
            "  _warn_prf(average, modifier, msg_start, len(result))\n",
            "/usr/local/lib/python3.8/dist-packages/sklearn/metrics/_classification.py:1318: UndefinedMetricWarning: Precision and F-score are ill-defined and being set to 0.0 in labels with no predicted samples. Use `zero_division` parameter to control this behavior.\n",
            "  _warn_prf(average, modifier, msg_start, len(result))\n",
            "/usr/local/lib/python3.8/dist-packages/sklearn/metrics/_classification.py:1318: UndefinedMetricWarning: Precision is ill-defined and being set to 0.0 in labels with no predicted samples. Use `zero_division` parameter to control this behavior.\n",
            "  _warn_prf(average, modifier, msg_start, len(result))\n",
            "/usr/local/lib/python3.8/dist-packages/sklearn/metrics/_classification.py:1318: UndefinedMetricWarning: Precision and F-score are ill-defined and being set to 0.0 in labels with no predicted samples. Use `zero_division` parameter to control this behavior.\n",
            "  _warn_prf(average, modifier, msg_start, len(result))\n",
            "/usr/local/lib/python3.8/dist-packages/sklearn/metrics/_classification.py:1318: UndefinedMetricWarning: Precision and F-score are ill-defined and being set to 0.0 in labels with no predicted samples. Use `zero_division` parameter to control this behavior.\n",
            "  _warn_prf(average, modifier, msg_start, len(result))\n",
            "/usr/local/lib/python3.8/dist-packages/sklearn/metrics/_classification.py:1318: UndefinedMetricWarning: Precision and F-score are ill-defined and being set to 0.0 in labels with no predicted samples. Use `zero_division` parameter to control this behavior.\n",
            "  _warn_prf(average, modifier, msg_start, len(result))\n",
            "/usr/local/lib/python3.8/dist-packages/sklearn/metrics/_classification.py:1318: UndefinedMetricWarning: Precision is ill-defined and being set to 0.0 in labels with no predicted samples. Use `zero_division` parameter to control this behavior.\n",
            "  _warn_prf(average, modifier, msg_start, len(result))\n",
            "/usr/local/lib/python3.8/dist-packages/sklearn/metrics/_classification.py:1318: UndefinedMetricWarning: Precision and F-score are ill-defined and being set to 0.0 in labels with no predicted samples. Use `zero_division` parameter to control this behavior.\n",
            "  _warn_prf(average, modifier, msg_start, len(result))\n",
            "/usr/local/lib/python3.8/dist-packages/sklearn/metrics/_classification.py:1318: UndefinedMetricWarning: Precision and F-score are ill-defined and being set to 0.0 in labels with no predicted samples. Use `zero_division` parameter to control this behavior.\n",
            "  _warn_prf(average, modifier, msg_start, len(result))\n",
            "/usr/local/lib/python3.8/dist-packages/sklearn/metrics/_classification.py:1318: UndefinedMetricWarning: Precision and F-score are ill-defined and being set to 0.0 in labels with no predicted samples. Use `zero_division` parameter to control this behavior.\n",
            "  _warn_prf(average, modifier, msg_start, len(result))\n"
          ]
        },
        {
          "output_type": "stream",
          "name": "stdout",
          "text": [
            "              precision    recall  f1-score   support\n",
            "\n",
            "          cp       0.76      1.00      0.87        29\n",
            "          im       0.50      0.62      0.56        16\n",
            "         imU       0.00      0.00      0.00         7\n",
            "          om       0.00      0.00      0.00         4\n",
            "          pp       0.75      0.60      0.67        10\n",
            "\n",
            "    accuracy                           0.68        66\n",
            "   macro avg       0.40      0.45      0.42        66\n",
            "weighted avg       0.57      0.68      0.62        66\n",
            "\n",
            "              precision    recall  f1-score   support\n",
            "\n",
            "          cp       0.78      1.00      0.88        29\n",
            "          im       0.75      0.38      0.50        16\n",
            "         imU       0.50      0.86      0.63         7\n",
            "          om       0.00      0.00      0.00         4\n",
            "          pp       0.67      0.60      0.63        10\n",
            "\n",
            "    accuracy                           0.71        66\n",
            "   macro avg       0.54      0.57      0.53        66\n",
            "weighted avg       0.68      0.71      0.67        66\n",
            "\n",
            "              precision    recall  f1-score   support\n",
            "\n",
            "          cp       0.88      0.97      0.92        29\n",
            "          im       0.80      0.75      0.77        16\n",
            "         imU       1.00      0.71      0.83         7\n",
            "          om       0.00      0.00      0.00         4\n",
            "          pp       0.64      0.90      0.75        10\n",
            "\n",
            "    accuracy                           0.82        66\n",
            "   macro avg       0.66      0.67      0.66        66\n",
            "weighted avg       0.78      0.82      0.79        66\n",
            "\n",
            "              precision    recall  f1-score   support\n",
            "\n",
            "          cp       0.90      0.93      0.92        29\n",
            "          im       0.80      0.50      0.62        16\n",
            "         imU       0.64      1.00      0.78         7\n",
            "          om       1.00      0.75      0.86         4\n",
            "          pp       0.83      1.00      0.91        10\n",
            "\n",
            "    accuracy                           0.83        66\n",
            "   macro avg       0.83      0.84      0.81        66\n",
            "weighted avg       0.84      0.83      0.82        66\n",
            "\n",
            "              precision    recall  f1-score   support\n",
            "\n",
            "          cp       0.88      1.00      0.94        29\n",
            "          im       0.68      0.94      0.79        16\n",
            "         imU       0.00      0.00      0.00         7\n",
            "          om       0.00      0.00      0.00         4\n",
            "          pp       0.80      0.80      0.80        10\n",
            "\n",
            "    accuracy                           0.79        66\n",
            "   macro avg       0.47      0.55      0.50        66\n",
            "weighted avg       0.67      0.79      0.72        66\n",
            "\n",
            "              precision    recall  f1-score   support\n",
            "\n",
            "          cp       0.97      1.00      0.98        29\n",
            "          im       0.72      0.81      0.76        16\n",
            "         imU       0.60      0.43      0.50         7\n",
            "          om       1.00      0.50      0.67         4\n",
            "          pp       0.91      1.00      0.95        10\n",
            "\n",
            "    accuracy                           0.86        66\n",
            "   macro avg       0.84      0.75      0.77        66\n",
            "weighted avg       0.86      0.86      0.86        66\n",
            "\n",
            "              precision    recall  f1-score   support\n",
            "\n",
            "          cp       0.91      1.00      0.95        29\n",
            "          im       0.86      0.75      0.80        16\n",
            "         imU       0.71      0.71      0.71         7\n",
            "          om       1.00      0.25      0.40         4\n",
            "          pp       0.67      0.80      0.73        10\n",
            "\n",
            "    accuracy                           0.83        66\n",
            "   macro avg       0.83      0.70      0.72        66\n",
            "weighted avg       0.84      0.83      0.82        66\n",
            "\n",
            "              precision    recall  f1-score   support\n",
            "\n",
            "          cp       0.97      1.00      0.98        29\n",
            "          im       0.85      0.69      0.76        16\n",
            "         imU       0.62      0.71      0.67         7\n",
            "          om       1.00      0.50      0.67         4\n",
            "          pp       0.77      1.00      0.87        10\n",
            "\n",
            "    accuracy                           0.86        66\n",
            "   macro avg       0.84      0.78      0.79        66\n",
            "weighted avg       0.87      0.86      0.86        66\n",
            "\n",
            "              precision    recall  f1-score   support\n",
            "\n",
            "          cp       0.88      1.00      0.94        29\n",
            "          im       0.93      0.81      0.87        16\n",
            "         imU       0.75      0.86      0.80         7\n",
            "          om       1.00      1.00      1.00         4\n",
            "          pp       1.00      0.70      0.82        10\n",
            "\n",
            "    accuracy                           0.89        66\n",
            "   macro avg       0.91      0.87      0.89        66\n",
            "weighted avg       0.90      0.89      0.89        66\n",
            "\n",
            "              precision    recall  f1-score   support\n",
            "\n",
            "          cp       1.00      1.00      1.00        29\n",
            "          im       1.00      0.75      0.86        16\n",
            "         imU       0.70      1.00      0.82         7\n",
            "          om       1.00      1.00      1.00         4\n",
            "          pp       0.91      1.00      0.95        10\n",
            "\n",
            "    accuracy                           0.94        66\n",
            "   macro avg       0.92      0.95      0.93        66\n",
            "weighted avg       0.95      0.94      0.94        66\n",
            "\n"
          ]
        }
      ]
    },
    {
      "cell_type": "code",
      "source": [
        "metrics_lr_mice.extend([accuracies_lr_mice, precisions_lr_mice, recalls_lr_mice, f1scores_lr_mice])\n",
        "metrics_svm_mice.extend([accuracies_svm_mice, precisions_svm_mice, recalls_svm_mice, f1scores_svm_mice])"
      ],
      "metadata": {
        "id": "uKFvbYQfV3Oq"
      },
      "execution_count": null,
      "outputs": []
    },
    {
      "cell_type": "code",
      "source": [
        "metrics_lr = [metrics_lr_med, metrics_lr_mice]\n",
        "\n",
        "dirty_proportions = ['50%', '60%', '70%', '80%', '90%']\n",
        "metrics_name = ['Accuracy', 'Precision', 'Recall', 'F1-Score']\n",
        "imp_methods = ['Median Imputation', 'MICE Imputation']\n",
        "\n",
        "\n",
        "barWidth = 0.25\n",
        "pos1 = np.arange(len(dirty_proportions))\n",
        "pos2 = [x + barWidth for x in pos1]\n",
        "pos = [pos1, pos2]\n",
        "\n",
        "fig, axs = plt.subplots(2, 2, figsize=(16,9))\n",
        "axs = axs.flatten()\n",
        "\n",
        "for i in range(len(metrics_name)):\n",
        "\n",
        "  for j in range(len(imp_methods)):\n",
        "\n",
        "    axs[i].bar(pos[j], metrics_lr[j][i], width=barWidth, label=imp_methods[j])\n",
        "    axs[i].set_title(metrics_name[i])\n",
        "    axs[i].set_ylim(0,1)\n",
        "    axs[i].set(xlabel='Percentage of Missing Values')\n",
        "    axs[i].set_xticks((pos1 + pos2)/2)\n",
        "    axs[i].set_xticklabels(dirty_proportions)\n",
        "    axs[i].legend()\n",
        "\n",
        "fig.suptitle('Logistic Regression', y=1)\n",
        "fig.tight_layout()\n",
        "#plt.savefig('classification_lr.png')\n",
        "plt.show()"
      ],
      "metadata": {
        "colab": {
          "base_uri": "https://localhost:8080/",
          "height": 668
        },
        "id": "DB409vylkTI3",
        "outputId": "df19811c-1ce2-4bd1-b929-609c276d270f"
      },
      "execution_count": null,
      "outputs": [
        {
          "output_type": "display_data",
          "data": {
            "text/plain": [
              "<Figure size 1152x648 with 4 Axes>"
            ],
            "image/png": "[encoded data removed]"
          },
          "metadata": {
            "needs_background": "light"
          }
        }
      ]
    },
    {
      "cell_type": "code",
      "source": [
        "metrics_svm = [metrics_svm_med, metrics_svm_mice]\n",
        "\n",
        "dirty_proportions = ['50%', '60%', '70%', '80%', '90%']\n",
        "metrics_name = ['Accuracy', 'Precision', 'Recall', 'F1-Score']\n",
        "imp_methods = ['Median Imputation', 'MICE Imputation']\n",
        "\n",
        "\n",
        "barWidth = 0.25\n",
        "pos1 = np.arange(len(dirty_proportions))\n",
        "pos2 = [x + barWidth for x in pos1]\n",
        "pos = [pos1, pos2]\n",
        "\n",
        "fig, axs = plt.subplots(2, 2, figsize=(16,9))\n",
        "axs = axs.flatten()\n",
        "\n",
        "for i in range(len(metrics_name)):\n",
        "\n",
        "  for j in range(len(imp_methods)):\n",
        "\n",
        "    axs[i].bar(pos[j], metrics_svm[j][i], width=barWidth, label=imp_methods[j])\n",
        "    axs[i].set_title(metrics_name[i])\n",
        "    axs[i].set_ylim(0,1)\n",
        "    axs[i].set(xlabel='Percentage of Missing Values')\n",
        "    axs[i].set_xticks((pos1 + pos2)/2)\n",
        "    axs[i].set_xticklabels(dirty_proportions)\n",
        "    axs[i].legend()\n",
        "\n",
        "fig.suptitle('SVM', y=1)\n",
        "fig.tight_layout()\n",
        "#plt.savefig('classification_svm.png')\n",
        "plt.show()"
      ],
      "metadata": {
        "colab": {
          "base_uri": "https://localhost:8080/",
          "height": 668
        },
        "id": "fdd72nWnnD40",
        "outputId": "91a50b5c-a468-4d2d-95b0-aca3325e84cf"
      },
      "execution_count": null,
      "outputs": [
        {
          "output_type": "display_data",
          "data": {
            "text/plain": [
              "<Figure size 1152x648 with 4 Axes>"
            ],
            "image/png": "[encoded data removed]"
          },
          "metadata": {
            "needs_background": "light"
          }
        }
      ]
    }
  ]
}